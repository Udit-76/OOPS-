{
  "nbformat": 4,
  "nbformat_minor": 0,
  "metadata": {
    "colab": {
      "provenance": []
    },
    "kernelspec": {
      "name": "python3",
      "display_name": "Python 3"
    },
    "language_info": {
      "name": "python"
    }
  },
  "cells": [
    {
      "cell_type": "markdown",
      "source": [
        "1. What is Object-Oriented Programming (OOP)?\n",
        "- OOP is a programming paradigm based on the concept of “objects,” which can contain data and code to manipulate that data.\n",
        "It helps in organizing complex programs, promoting code reuse, modularity, and maintainability.\n",
        "\n",
        "  Main concepts of OOP:\n",
        "\n",
        "- Class\n",
        "\n",
        "- Object\n",
        "\n",
        "- Encapsulation\n",
        "\n",
        "- Inheritance\n",
        "\n",
        "- Polymorphism\n",
        "\n",
        "- Abstraction\n",
        "\n"
      ],
      "metadata": {
        "id": "5TX1m9UZN4ob"
      }
    },
    {
      "cell_type": "markdown",
      "source": [
        "2. What is a class in OOP?\n",
        "- A class is a blueprint for creating objects. It defines a set of attributes and behaviors (methods) that its instances will have.\n",
        "-Classes are defined using the class keyword, followed by the class name and a colon. Inside the class body, attributes and methods can be defined.\n"
      ],
      "metadata": {
        "id": "bfeVIAMHe-Zc"
      }
    },
    {
      "cell_type": "markdown",
      "source": [
        "3. What is an object in OOP?\n",
        "- An object is an instance of a class. It represents a specific entity with real values.\n",
        "\n",
        "Example - car1 = Car(\"Toyota\", \"Corolla\")  # car1 is an object of class Car\n"
      ],
      "metadata": {
        "id": "s15GN6Whe-K8"
      }
    },
    {
      "cell_type": "markdown",
      "source": [
        "4. What is the difference between abstraction and encapsulation?\n",
        "\n",
        "- Abstraction:\n",
        "Abstraction simplifies complex systems by focusing on the core functionality and hiding unnecessary details. It's about presenting a simplified view of the system to the user, making it easier to understand and use. For example, when using a car, you don't need to know how the engine works, you just need to know how to start, stop, and steer it.\n",
        "-Encapsulation:\n",
        "Encapsulation bundles data and methods into a single unit (like a class) and restricts access to those components from outside the unit. This helps protect the internal state of an object and promotes modularity. For example, the internal workings of a car's engine are encapsulated under the hood and are not directly accessible to the user."
      ],
      "metadata": {
        "id": "CCOYMopUe99h"
      }
    },
    {
      "cell_type": "markdown",
      "source": [
        "5. What are dunder methods in Python?\n",
        "- Dunder methods are the methods starting and ending with double underscores '__'. They are defined by built-in classes in Python and commonly used for operator overloading.\n",
        "\n",
        "They are also called Magic methods, Dunder here means \"Double Under (Underscores)\".They are used to customize the behavior of objects."
      ],
      "metadata": {
        "id": "B1VM06gD3Hxq"
      }
    },
    {
      "cell_type": "markdown",
      "source": [
        "6. Explain the concept of inheritance in OOP\n",
        "- Inheritance is a core concept in object-oriented programming (OOP) that allows a class (the child or derived class) to inherit properties and methods from another class (the parent or base class). This promotes code reusability and establishes relationships between classes, enabling the creation of a hierarchy of classes with increasing specialization."
      ],
      "metadata": {
        "id": "RDR2-zcH3Hkf"
      }
    },
    {
      "cell_type": "markdown",
      "source": [
        "7. What is polymorphism in OOP?\n",
        "- Polymorphism, meaning \"many forms\" in Greek,it is a core concept in object-oriented programming (OOP) that allows objects to take on multiple forms or behaviors. It's achieved through mechanisms like inheritance, method overriding, and function overloading, enabling flexible and adaptable code. In essence, polymorphism allows you to treat objects of different classes in a uniform way, making your code more versatile and easier to maintain.\n"
      ],
      "metadata": {
        "id": "0sJwSLy53HYy"
      }
    },
    {
      "cell_type": "markdown",
      "source": [
        "8. How is encapsulation achieved in Python?\n",
        "- Encapsulation in Python is a fundamental concept of object-oriented\n",
        "  programming (OOP) that is used to restrict access to certain people.This is done to prevent accidental modification of data and to hide the internal implementation details of an object.\n",
        "\n",
        " -> How Encapsulation is Achieved in Python:\n",
        "\n",
        " 1.  Using Access Modifiers:\n",
        "Python uses naming conventions to indicate the level of access control:\n",
        "\n",
        " - Public members: Accessible from anywhere. (No underscore prefix )\n",
        "  \n",
        "  - Private members: Indicated by a double underscore __, name mangled to prevent access from outside the class directly.\n",
        "\n",
        " - Protected members: Indicated by a single underscore _, meant to be accessed only within the class and its subclasses (by convention, not enforced).\n",
        "\n",
        " 2. Getter and Setter Methods:\n",
        "Encapsulation is also implemented using getter and setter methods to control access and update of private attributes.\n",
        " 3. Using @property Decorators:\n",
        "Python offers a cleaner syntax for getters and setters using the @property decorator.\n",
        "\n"
      ],
      "metadata": {
        "id": "wJHFBOo76pkN"
      }
    },
    {
      "cell_type": "markdown",
      "source": [
        "9. What is a constructor in Python?\n",
        "- In Python, a constructor is a special method used to initialize a newly created object of a class. It is automatically called when a new instance of the class is created.\n",
        "\n",
        "  The Constructor Method in Python\n",
        " uses the _ init _ method as the constructor.\n",
        "\n",
        " Constructors can be of two types.\n",
        "\n",
        " 1. Default Constructor\n",
        "A default constructor does not take any parameters other than self. It initializes the object with default attribute values.\n",
        " 2. Parameterized Constructor\n",
        "A parameterized constructor accepts arguments to initialize the object's attributes with specific values.\n",
        "\n",
        "\n",
        "\n",
        "\n",
        "\n",
        "\n"
      ],
      "metadata": {
        "id": "GRPhgjDW6pgq"
      }
    },
    {
      "cell_type": "markdown",
      "source": [
        "10. What are class and static methods in Python?\n",
        "- In Python, class methods and static methods are two types of methods that are defined using decorators and have different behavior compared to regular instance methods. Here's a breakdown of both:\n",
        "\n",
        "1. Class Methods\n",
        "Definition: A class method is bound to the class and not the instance of the class.\n",
        "\n",
        " Syntax: Defined using the @classmethod decorator.\n",
        "\n",
        " First Argument: The first parameter is cls, which refers to the class itself (similar to self in instance methods).\n",
        "\n",
        " Usage: Often used for factory methods or methods that need to access or modify class state.\n",
        "\n",
        "\n",
        " 2. Static Methods\n",
        "Definition: A static method is not bound to the class or instance. It does not take self or cls as the first parameter.\n",
        "\n",
        " Syntax: Defined using the @staticmethod decorator.\n",
        "\n",
        " Usage: Used when a method doesn’t need access to class or instance data. It behaves like a regular function but belongs to the class's namespace.\n",
        "\n",
        "\n",
        "\n"
      ],
      "metadata": {
        "id": "DgRF-1Xy6peN"
      }
    },
    {
      "cell_type": "markdown",
      "source": [
        "11. What is method overloading in Python?\n",
        "- Method overloading in Python refers to the ability to define multiple methods with the same name but different parameters within a class. This allows a single method to perform different actions based on the number or type of arguments passed to it. Python does not support method overloading in the traditional sense, where multiple methods with the same name are defined with different parameter lists. However, it achieves similar behavior through flexible argument handling.\n",
        "\n"
      ],
      "metadata": {
        "id": "2qGydvmP6pa1"
      }
    },
    {
      "cell_type": "markdown",
      "source": [
        "12. What is method overriding in OOP?\n",
        "- In Object-Oriented Programming (OOP), method overriding allows a subclass to provide a specific implementation of a method that is already defined in its superclass. This means a subclass can customize or replace the behavior of a method inherited from its parent class, enabling polymorphism.\n"
      ],
      "metadata": {
        "id": "uHexPFvE6pWl"
      }
    },
    {
      "cell_type": "markdown",
      "source": [
        "13. What is a property decorator in Python?\n",
        "- In Python, a property decorator is a built-in feature that allows you to manage class attributes with greater control and flexibility. It provides a way to define methods that behave like attributes, enabling you to add logic for getting, setting, and deleting attributes. This approach encapsulates the implementation of an attribute while providing a clean and intuitive interface for object-oriented programming.\n",
        "\n",
        " The @property decorator is used to define a getter method, which is called when the attribute is accessed."
      ],
      "metadata": {
        "id": "dB6Camqc6pUQ"
      }
    },
    {
      "cell_type": "markdown",
      "source": [
        "14. Why is polymorphism important in OOP?\n",
        "- Polymorphism allows objects of different classes to be treated as objects of a common superclass, improving flexibility and scalability in code.\n",
        "\n"
      ],
      "metadata": {
        "id": "QXwKi3Mq6pRF"
      }
    },
    {
      "cell_type": "markdown",
      "source": [
        "15. What is an abstract class in Python?\n",
        "- An abstract class in Python is a class that cannot be instantiated directly. It serves as a blueprint for other classes.The abc module in Python provides the necessary tools for defining abstract base classes."
      ],
      "metadata": {
        "id": "3YqQ6J766oq8"
      }
    },
    {
      "cell_type": "markdown",
      "source": [
        "16. What are the advantages of OOP?\n",
        "- Code reusability through inheritance\n",
        "\n",
        "- Modularity\n",
        "\n",
        "- Encapsulation of data\n",
        "\n",
        "- Polymorphism for flexibility\n",
        "\n",
        "- Easier maintenance and debugging\n",
        "\n"
      ],
      "metadata": {
        "id": "heKE9MBnIfMj"
      }
    },
    {
      "cell_type": "markdown",
      "source": [
        "17. Difference between class variable and instance variable:\n",
        "- Class variables are shared among all instances (objects) of a class, while  \n",
        "- instance variables are specific to each instance.\n",
        "\n",
        " Class variables are often denoted with the static keyword, and are typically used to store information that's common to all objects of that class. Instance variables, on the other hand, hold unique data for each object."
      ],
      "metadata": {
        "id": "BV7ndQjoIfKA"
      }
    },
    {
      "cell_type": "markdown",
      "source": [
        "18. What is multiple inheritance in Python?\n",
        "- Multiple inheritance in Python is a feature where a class can inherit attributes and methods from more than one parent class. This allows for more flexible class hierarchies and code reuse.\n"
      ],
      "metadata": {
        "id": "7_5OEF3mIfG8"
      }
    },
    {
      "cell_type": "markdown",
      "source": [
        "19. Purpose of _ str _ and _ repr _ methods:\n",
        "- The _ str _ and _ repr _ methods in Python are both used to provide string representations of objects, but they serve different purposes:\n",
        "\n",
        "_ str _: User-friendly string representation.\n",
        "\n",
        "_ repr _: Developer-friendly representation (used for debugging).\n"
      ],
      "metadata": {
        "id": "8Kz9fzRwIfEK"
      }
    },
    {
      "cell_type": "markdown",
      "source": [
        "20. Significance of super() function:\n",
        "-  Function in Python?\n",
        "The super() function is used in inheritance to call methods from a parent (super) class inside a child (subclass). It is most commonly used to:\n",
        "\n",
        " Call the parent class’s constructor (__init__)\n",
        "\n",
        " Access methods that have been overridden in the child class\n",
        "\n"
      ],
      "metadata": {
        "id": "hCQSLkqZIfCM"
      }
    },
    {
      "cell_type": "markdown",
      "source": [
        "21. Significance of the __del__ method:\n",
        "- The __ del__ method exists to release any resources held by an object when that object is deleted. The __ del__ is called only by the garbage collector which may call it after an indefinite delay or never. Consequently, __del__ method should not be relied on to release resources, such as file descriptors.\n"
      ],
      "metadata": {
        "id": "I9meYy8pIeI-"
      }
    },
    {
      "cell_type": "markdown",
      "source": [
        "22. Difference between @staticmethod and @classmethod:\n",
        "- Both @staticmethod and @classmethod are decorators used to define methods that are not like normal instance methods, but they serve different purposes and behave differently.\n",
        "\n",
        "🔹 @staticmethod\n",
        "- Belongs to the class but does not take self or cls as the first argument.\n",
        "-  Can be called on the class or instance, but doesn’t access or modify class or instance data.\n",
        "\n",
        "- Used when the method logic is independent of class or instance.\n",
        "\n",
        "🔹 @classmethod\n",
        "- Takes cls (the class itself) as the first argument.\n",
        "\n",
        "- Can access or modify class-level attributes or other class methods.\n",
        "\n",
        "- Useful for factory methods or modifying class-level data."
      ],
      "metadata": {
        "id": "RpdAEFDxLO3N"
      }
    },
    {
      "cell_type": "markdown",
      "source": [
        "23. How does polymorphism work in Python with inheritance?\n",
        "- Polymorphism in Python, especially in the context of inheritance, allows objects of different classes to be treated as objects of a common superclass. It enables a unified interface to interact with different types of objects, often using method overriding.\n",
        "\n",
        "How It Works with Inheritance\n",
        "\n",
        "1. Base Class Definition:\n",
        "You define a base class with a method.\n",
        "\n",
        "2. Derived Classes Override Methods:\n",
        "Subclasses (derived from the base class) override this method to provide specific behavior.\n",
        "\n",
        "3. Common Interface:\n",
        "You can call the method on any subclass object, and the appropriate version (defined in the subclass) is executed."
      ],
      "metadata": {
        "id": "aN7_HGZzLOz3"
      }
    },
    {
      "cell_type": "markdown",
      "source": [
        "24. What is method chaining in Python OOP?\n",
        "- Method chaining in Python Object-Oriented Programming (OOP) is a technique where multiple method calls are linked together in a single line, using the dot (.) operator. This is possible when each method returns self (i.e., the instance of the object), allowing the next method to be called on that same object.\n",
        "\n",
        " To enable method chaining:\n",
        "\n",
        "1. Each method modifies the object (if needed).\n",
        "\n",
        "2. Then, it returns self.\n",
        "\n"
      ],
      "metadata": {
        "id": "uNLEDK8YLOxG"
      }
    },
    {
      "cell_type": "markdown",
      "source": [
        "25. Purpose of the __call__ method in Python?\n",
        "- The __ call__ method in Python allows an instance of a class to be called like a function.\n",
        "\n",
        "✅ Purpose of __call__:\n",
        "\n",
        "- It gives objects function-like behavior.\n",
        "\n",
        "- It allows customization of what happens when the object is \"called\" using parentheses.\n",
        "\n",
        "\n"
      ],
      "metadata": {
        "id": "rMGfF_f0OZR6"
      }
    },
    {
      "cell_type": "markdown",
      "source": [
        " Practical Questions"
      ],
      "metadata": {
        "id": "ekr9AXr9PyXy"
      }
    },
    {
      "cell_type": "code",
      "execution_count": 2,
      "metadata": {
        "colab": {
          "base_uri": "https://localhost:8080/"
        },
        "id": "cmmAszX0Mstr",
        "outputId": "c20159dd-e4e8-42f4-8f40-2d7efb1f59e1"
      },
      "outputs": [
        {
          "output_type": "stream",
          "name": "stdout",
          "text": [
            "Bark!\n"
          ]
        }
      ],
      "source": [
        "# 1. Inheritance: Animal and Dog\n",
        "\n",
        "class Animal:\n",
        "    def speak(self):\n",
        "        print(\"Animal speaks\")\n",
        "\n",
        "class Dog(Animal):\n",
        "    def speak(self):\n",
        "        print(\"Bark!\")\n",
        "\n",
        "dog = Dog()\n",
        "dog.speak()\n",
        ""
      ]
    },
    {
      "cell_type": "code",
      "source": [
        "# 2. Abstract Class: Shape\n",
        "\n",
        "from abc import ABC, abstractmethod\n",
        "\n",
        "class Shape(ABC):\n",
        "    @abstractmethod\n",
        "    def area(self):\n",
        "        pass\n",
        "\n",
        "class Circle(Shape):\n",
        "    def __init__(self, radius):\n",
        "        self.radius = radius\n",
        "\n",
        "    def area(self):\n",
        "        return 3.14 * self.radius * self.radius\n",
        "\n",
        "class Rectangle(Shape):\n",
        "    def __init__(self, length, width):\n",
        "        self.length = length\n",
        "        self.width = width\n",
        "\n",
        "    def area(self):\n",
        "        return self.length * self.width\n",
        "\n",
        "circle = Circle(5)\n",
        "rectangle = Rectangle(4, 6)\n",
        "\n",
        "print(\"Circle area:\", circle.area())\n",
        "print(\"Rectangle area:\", rectangle.area())\n",
        "\n"
      ],
      "metadata": {
        "id": "jcb5XQYUPnyl"
      },
      "execution_count": null,
      "outputs": []
    },
    {
      "cell_type": "code",
      "source": [
        "# 3. Multi-Level Inheritance: Vehicle > Car > ElectricCar\n",
        "class Vehicle:\n",
        "    def __init__(self, type):\n",
        "        self.type = type\n",
        "\n",
        "class Car(Vehicle):\n",
        "    def __init__(self, type, model):\n",
        "        super().__init__(type)\n",
        "        self.model = model\n",
        "\n",
        "class ElectricCar(Car):\n",
        "    def __init__(self, type, model, battery):\n",
        "        super().__init__(type, model)\n",
        "        self.battery = battery\n",
        "\n",
        "ecar = ElectricCar(\"Electric\", \"Tesla Model 3\", \"75 kWh\")\n",
        "print(f\"Type: {ecar.type}, Model: {ecar.model}, Battery: {ecar.battery}\")\n"
      ],
      "metadata": {
        "id": "GQSgXd2NPntJ"
      },
      "execution_count": null,
      "outputs": []
    },
    {
      "cell_type": "code",
      "source": [
        "# 4. Polymorphism: Bird, Sparrow, Penguin\n",
        "class Bird:\n",
        "    def fly(self):\n",
        "        print(\"Bird is flying\")\n",
        "\n",
        "class Sparrow(Bird):\n",
        "    def fly(self):\n",
        "        print(\"Sparrow flies high\")\n",
        "\n",
        "class Penguin(Bird):\n",
        "    def fly(self):\n",
        "        print(\"Penguins can't fly\")\n",
        "\n",
        "birds = [Sparrow(), Penguin()]\n",
        "for bird in birds:\n",
        "    bird.fly()\n"
      ],
      "metadata": {
        "id": "kLH39BJxPnn3"
      },
      "execution_count": null,
      "outputs": []
    },
    {
      "cell_type": "code",
      "source": [
        "#5. Encapsulation: BankAccount\n",
        "class BankAccount:\n",
        "    def __init__(self):\n",
        "        self.__balance = 0\n",
        "\n",
        "    def deposit(self, amount):\n",
        "        self.__balance += amount\n",
        "\n",
        "    def withdraw(self, amount):\n",
        "        if amount <= self.__balance:\n",
        "            self.__balance -= amount\n",
        "        else:\n",
        "            print(\"Insufficient funds\")\n",
        "\n",
        "    def check_balance(self):\n",
        "        print(\"Balance:\", self.__balance)\n",
        "\n",
        "account = BankAccount()\n",
        "account.deposit(1000)\n",
        "account.withdraw(500)\n",
        "account.check_balance()\n"
      ],
      "metadata": {
        "id": "6bvqyoZ_PniL"
      },
      "execution_count": null,
      "outputs": []
    },
    {
      "cell_type": "code",
      "source": [
        "# 6. Runtime Polymorphism: Instrument\n",
        "class Instrument:\n",
        "    def play(self):\n",
        "        print(\"Playing instrument\")\n",
        "\n",
        "class Guitar(Instrument):\n",
        "    def play(self):\n",
        "        print(\"Playing guitar\")\n",
        "\n",
        "class Piano(Instrument):\n",
        "    def play(self):\n",
        "        print(\"Playing piano\")\n",
        "\n",
        "instruments = [Guitar(), Piano()]\n",
        "for inst in instruments:\n",
        "    inst.play()\n"
      ],
      "metadata": {
        "colab": {
          "base_uri": "https://localhost:8080/"
        },
        "id": "vKKpM-6RPndK",
        "outputId": "bf5cd6ef-7edc-40c3-d1d0-fd4f98208b5c"
      },
      "execution_count": 3,
      "outputs": [
        {
          "output_type": "stream",
          "name": "stdout",
          "text": [
            "Playing guitar\n",
            "Playing piano\n"
          ]
        }
      ]
    },
    {
      "cell_type": "code",
      "source": [
        "# 7. Class and Static Methods\n",
        "class MathOperations:\n",
        "    @classmethod\n",
        "    def add_numbers(cls, a, b):\n",
        "        return a + b\n",
        "\n",
        "    @staticmethod\n",
        "    def subtract_numbers(a, b):\n",
        "        return a - b\n",
        "\n",
        "print(\"Addition:\", MathOperations.add_numbers(10, 5))\n",
        "print(\"Subtraction:\", MathOperations.subtract_numbers(10, 5))\n"
      ],
      "metadata": {
        "id": "hNkqJRS3PnXl"
      },
      "execution_count": null,
      "outputs": []
    },
    {
      "cell_type": "code",
      "source": [
        "# 8. Counting Persons with Class Method\n",
        "class Person:\n",
        "    count = 0\n",
        "\n",
        "    def __init__(self, name):\n",
        "        self.name = name\n",
        "        Person.count += 1\n",
        "\n",
        "    @classmethod\n",
        "    def total_persons(cls):\n",
        "        return cls.count\n",
        "\n",
        "p1 = Person(\"Alice\")\n",
        "p2 = Person(\"Bob\")\n",
        "print(\"Total persons:\", Person.total_persons())\n"
      ],
      "metadata": {
        "id": "2nAeW3YVPnRq"
      },
      "execution_count": null,
      "outputs": []
    },
    {
      "cell_type": "code",
      "source": [
        "# 9. Override __str__ in Fraction\n",
        "class Fraction:\n",
        "    def __init__(self, numerator, denominator):\n",
        "        self.numerator = numerator\n",
        "        self.denominator = denominator\n",
        "\n",
        "    def __str__(self):\n",
        "        return f\"{self.numerator}/{self.denominator}\"\n",
        "\n",
        "f = Fraction(3, 4)\n",
        "print(f)\n"
      ],
      "metadata": {
        "id": "J3qP_4KaPm7v"
      },
      "execution_count": null,
      "outputs": []
    },
    {
      "cell_type": "code",
      "source": [
        "# 10. Operator Overloading: Vector\n",
        "class Vector:\n",
        "    def __init__(self, x, y):\n",
        "        self.x = x\n",
        "        self.y = y\n",
        "\n",
        "    def __add__(self, other):\n",
        "        return Vector(self.x + other.x, self.y + other.y)\n",
        "\n",
        "    def __str__(self):\n",
        "        return f\"({self.x}, {self.y})\"\n",
        "\n",
        "v1 = Vector(1, 2)\n",
        "v2 = Vector(3, 4)\n",
        "v3 = v1 + v2\n",
        "print(\"Result of vector addition:\", v3)\n"
      ],
      "metadata": {
        "id": "iBU6cZfXS2d_"
      },
      "execution_count": null,
      "outputs": []
    },
    {
      "cell_type": "code",
      "source": [
        "# 11. Person Class with greet()\n",
        "class Person:\n",
        "    def __init__(self, name, age):\n",
        "        self.name = name\n",
        "        self.age = age\n",
        "\n",
        "    def greet(self):\n",
        "        print(f\"Hello, my name is {self.name} and I am {self.age} years old.\")\n",
        "\n",
        "p = Person(\"John\", 30)\n",
        "p.greet()\n"
      ],
      "metadata": {
        "id": "hZtQOyO_S2ba"
      },
      "execution_count": null,
      "outputs": []
    },
    {
      "cell_type": "code",
      "source": [
        "# 12. Class Student with average_grade()\n",
        "class Student:\n",
        "    def __init__(self, name, grades):\n",
        "        self.name = name\n",
        "        self.grades = grades  # list of grades\n",
        "\n",
        "    def average_grade(self):\n",
        "        return sum(self.grades) / len(self.grades)\n",
        "\n",
        "s = Student(\"Alice\", [80, 90, 85])\n",
        "print(f\"{s.name}'s average grade:\", s.average_grade())\n"
      ],
      "metadata": {
        "id": "9uZwbd56S2ZH"
      },
      "execution_count": null,
      "outputs": []
    },
    {
      "cell_type": "code",
      "source": [
        "# 13. Class Rectangle with set_dimensions() and area()\n",
        "class Rectangle:\n",
        "    def set_dimensions(self, length, width):\n",
        "        self.length = length\n",
        "        self.width = width\n",
        "\n",
        "    def area(self):\n",
        "        return self.length * self.width\n",
        "\n",
        "rect = Rectangle()\n",
        "rect.set_dimensions(5, 3)\n",
        "print(\"Area of rectangle:\", rect.area())\n"
      ],
      "metadata": {
        "id": "MOKPOnbXS2Wz"
      },
      "execution_count": null,
      "outputs": []
    },
    {
      "cell_type": "code",
      "source": [
        "# 14. Employee and Manager with calculate_salary()\n",
        "class Employee:\n",
        "    def calculate_salary(self, hours, rate):\n",
        "        return hours * rate\n",
        "\n",
        "class Manager(Employee):\n",
        "    def calculate_salary(self, hours, rate, bonus):\n",
        "        base_salary = super().calculate_salary(hours, rate)\n",
        "        return base_salary + bonus\n",
        "\n",
        "e = Employee()\n",
        "m = Manager()\n",
        "\n",
        "print(\"Employee salary:\", e.calculate_salary(40, 20))\n",
        "print(\"Manager salary:\", m.calculate_salary(40, 20, 500))\n"
      ],
      "metadata": {
        "id": "_W9q5pLcS2UW"
      },
      "execution_count": null,
      "outputs": []
    },
    {
      "cell_type": "code",
      "source": [
        "# 15. Product with total_price()\n",
        "class Product:\n",
        "    def __init__(self, name, price, quantity):\n",
        "        self.name = name\n",
        "        self.price = price\n",
        "        self.quantity = quantity\n",
        "\n",
        "    def total_price(self):\n",
        "        return self.price * self.quantity\n",
        "\n",
        "p = Product(\"Laptop\", 500, 3)\n",
        "print(f\"Total price of {p.name}: ${p.total_price()}\")\n"
      ],
      "metadata": {
        "id": "QcugfrFwS2O4"
      },
      "execution_count": null,
      "outputs": []
    },
    {
      "cell_type": "code",
      "source": [
        "# 16. Abstract Class Animal with Cow and Sheep\n",
        "from abc import ABC, abstractmethod\n",
        "\n",
        "class Animal(ABC):\n",
        "    @abstractmethod\n",
        "    def sound(self):\n",
        "        pass\n",
        "\n",
        "class Cow(Animal):\n",
        "    def sound(self):\n",
        "        print(\"Moo\")\n",
        "\n",
        "class Sheep(Animal):\n",
        "    def sound(self):\n",
        "        print(\"Baa\")\n",
        "\n",
        "cow = Cow()\n",
        "sheep = Sheep()\n",
        "\n",
        "cow.sound()\n",
        "sheep.sound()\n"
      ],
      "metadata": {
        "id": "uB8ErLOKS2Jf"
      },
      "execution_count": null,
      "outputs": []
    },
    {
      "cell_type": "code",
      "source": [
        "# 17. Book with get_book_info()\n",
        "class Book:\n",
        "    def __init__(self, title, author, year_published):\n",
        "        self.title = title\n",
        "        self.author = author\n",
        "        self.year_published = year_published\n",
        "\n",
        "    def get_book_info(self):\n",
        "        return f\"'{self.title}' by {self.author}, published in {self.year_published}\"\n",
        "\n",
        "b = Book(\"1984\", \"George Orwell\", 1949)\n",
        "print(b.get_book_info())\n"
      ],
      "metadata": {
        "id": "Js2xbTrGS2Cu"
      },
      "execution_count": null,
      "outputs": []
    },
    {
      "cell_type": "code",
      "source": [
        "# 18. House and Mansion\n",
        "class House:\n",
        "    def __init__(self, address, price):\n",
        "        self.address = address\n",
        "        self.price = price\n",
        "\n",
        "class Mansion(House):\n",
        "    def __init__(self, address, price, number_of_rooms):\n",
        "        super().__init__(address, price)\n",
        "        self.number_of_rooms = number_of_rooms\n",
        "\n",
        "m = Mansion(\"123 Luxury St\", 1000000, 10)\n",
        "print(f\"Address: {m.address}, Price: ${m.price}, Rooms: {m.number_of_rooms}\")\n"
      ],
      "metadata": {
        "colab": {
          "base_uri": "https://localhost:8080/"
        },
        "id": "W6rBM2RIS167",
        "outputId": "211d5a31-1369-4c09-a81b-b77c3f700d4b"
      },
      "execution_count": 4,
      "outputs": [
        {
          "output_type": "stream",
          "name": "stdout",
          "text": [
            "Address: 123 Luxury St, Price: $1000000, Rooms: 10\n"
          ]
        }
      ]
    }
  ]
}